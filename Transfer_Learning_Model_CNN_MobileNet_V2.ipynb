{
  "nbformat": 4,
  "nbformat_minor": 0,
  "metadata": {
    "colab": {
      "provenance": []
    },
    "kernelspec": {
      "name": "python3",
      "display_name": "Python 3"
    },
    "language_info": {
      "name": "python"
    }
  },
  "cells": [
    {
      "cell_type": "code",
      "execution_count": null,
      "metadata": {
        "id": "iygN0gxmkwx-"
      },
      "outputs": [],
      "source": [
        "!pip install kaggle"
      ]
    },
    {
      "cell_type": "code",
      "source": [
        "! mkdir ~/.kaggle\n",
        "! cp kaggle.json ~/.kaggle/\n",
        "! chmod 600 ~/.kaggle/kaggle.json"
      ],
      "metadata": {
        "id": "3CJteN5Tm-um"
      },
      "execution_count": null,
      "outputs": []
    },
    {
      "cell_type": "markdown",
      "source": [
        "Importing dog vs cat dataset from kaggle"
      ],
      "metadata": {
        "id": "gH1rc1iGps0p"
      }
    },
    {
      "cell_type": "markdown",
      "source": [
        "Extracting compressed file"
      ],
      "metadata": {
        "id": "VyWU1rFmql6R"
      }
    },
    {
      "cell_type": "code",
      "source": [
        "!kaggle competitions download -c dogs-vs-cats"
      ],
      "metadata": {
        "id": "nlXtvd3wpqC6",
        "colab": {
          "base_uri": "https://localhost:8080/"
        },
        "outputId": "97fc9b39-a453-43b4-ec15-dd27aebe0277"
      },
      "execution_count": null,
      "outputs": [
        {
          "output_type": "stream",
          "name": "stdout",
          "text": [
            "dogs-vs-cats.zip: Skipping, found more recently modified local copy (use --force to force download)\n"
          ]
        }
      ]
    },
    {
      "cell_type": "code",
      "source": [
        "from zipfile import ZipFile"
      ],
      "metadata": {
        "id": "Yjj1en8LqsQA"
      },
      "execution_count": null,
      "outputs": []
    },
    {
      "cell_type": "code",
      "source": [
        "dataset = \"/content/dogs-vs-cats.zip\"\n",
        "with ZipFile(dataset,'r') as zip:\n",
        "  zip.extractall()\n"
      ],
      "metadata": {
        "id": "kE4st529rEqY"
      },
      "execution_count": null,
      "outputs": []
    },
    {
      "cell_type": "code",
      "source": [
        "dataset = \"/content/train.zip\"\n",
        "with ZipFile(dataset,'r') as zip:\n",
        "  zip.extractall()"
      ],
      "metadata": {
        "id": "1rCVrdzNrZ1Q"
      },
      "execution_count": null,
      "outputs": []
    },
    {
      "cell_type": "code",
      "source": [
        "dataset = \"/content/test1.zip\"\n",
        "with ZipFile(dataset,'r') as zip:\n",
        "  zip.extractall()"
      ],
      "metadata": {
        "id": "RK7RCE1urr4p"
      },
      "execution_count": null,
      "outputs": []
    },
    {
      "cell_type": "markdown",
      "source": [
        "counting the no. of samples"
      ],
      "metadata": {
        "id": "3abziN1-uwJj"
      }
    },
    {
      "cell_type": "code",
      "source": [
        "import os\n",
        "path ,dirs ,files = next(os.walk('/content/train'))\n",
        "file_count = len(files)\n",
        "file_count"
      ],
      "metadata": {
        "id": "veLsnPfmr72S",
        "colab": {
          "base_uri": "https://localhost:8080/"
        },
        "outputId": "cfae3fe6-cd51-485c-ba3c-699e251f0588"
      },
      "execution_count": null,
      "outputs": [
        {
          "output_type": "execute_result",
          "data": {
            "text/plain": [
              "25000"
            ]
          },
          "metadata": {},
          "execution_count": 4
        }
      ]
    },
    {
      "cell_type": "markdown",
      "source": [
        "Importing Dependencies"
      ],
      "metadata": {
        "id": "uF5TqnVavioR"
      }
    },
    {
      "cell_type": "code",
      "source": [
        "import numpy as np\n",
        "import PIL\n",
        "import matplotlib.pyplot as plt\n",
        "import matplotlib.image as mpimg\n",
        "from sklearn.model_selection import train_test_split\n",
        "from google.colab.patches import cv2_imshow\n",
        "from PIL import Image"
      ],
      "metadata": {
        "id": "ANqKzYFIvJCS"
      },
      "execution_count": null,
      "outputs": []
    },
    {
      "cell_type": "markdown",
      "source": [
        "Displaying cat and dog images"
      ],
      "metadata": {
        "id": "mjpsoxZIwtvy"
      }
    },
    {
      "cell_type": "code",
      "source": [
        "cat_img = mpimg.imread('/content/train/cat.10001.jpg')\n",
        "dog_img = mpimg.imread('/content/train/dog.8298.jpg')"
      ],
      "metadata": {
        "id": "7rzA35HcwKgQ"
      },
      "execution_count": null,
      "outputs": []
    },
    {
      "cell_type": "code",
      "source": [
        "cv2_imshow(cat_img)"
      ],
      "metadata": {
        "id": "NAAhLB0WxTam"
      },
      "execution_count": null,
      "outputs": []
    },
    {
      "cell_type": "code",
      "source": [
        "cv2_imshow(dog_img)"
      ],
      "metadata": {
        "id": "UytiGhsFxU6k"
      },
      "execution_count": null,
      "outputs": []
    },
    {
      "cell_type": "markdown",
      "source": [
        "Since all the images of different size, we need to resize the images"
      ],
      "metadata": {
        "id": "F_1XiIevymw_"
      }
    },
    {
      "cell_type": "code",
      "source": [
        "#counting the number of dog and cat images\n",
        "filenames = os.listdir('/content/train')\n",
        "for i in range(5):\n",
        "  print(filenames[i])"
      ],
      "metadata": {
        "colab": {
          "base_uri": "https://localhost:8080/"
        },
        "id": "1zA3ga-Qxi0p",
        "outputId": "c61950a3-c9e4-43a4-de93-0ac8917e4625"
      },
      "execution_count": null,
      "outputs": [
        {
          "output_type": "stream",
          "name": "stdout",
          "text": [
            "dog.12457.jpg\n",
            "cat.4047.jpg\n",
            "cat.1596.jpg\n",
            "cat.6179.jpg\n",
            "dog.11234.jpg\n"
          ]
        }
      ]
    },
    {
      "cell_type": "code",
      "source": [
        "dog_c = 0\n",
        "cat_c = 0\n",
        "for img in filenames:\n",
        "  if img[0:3] == 'cat':\n",
        "    cat_c += 1\n",
        "  if img[0:3]  == 'dog':\n",
        "    dog_c +=1\n",
        "print(dog_c)\n",
        "print(cat_c)"
      ],
      "metadata": {
        "id": "BYS9LmME1J1q"
      },
      "execution_count": null,
      "outputs": []
    },
    {
      "cell_type": "code",
      "source": [
        "#resizing an image\n",
        "os.mkdir('/content/resized') # making a folder for resized images\n",
        "\n"
      ],
      "metadata": {
        "id": "xrs7VVeK3Q-o"
      },
      "execution_count": null,
      "outputs": []
    },
    {
      "cell_type": "code",
      "source": [
        "original_fold = \"/content/train/\"\n",
        "resized_fold = \"/content/resized/\"\n",
        "file = os.listdir('/content/train')\n",
        "for i in range (2000): # since we are using previoulsly trained mobilenet model, we do not need much data , so we are taking only 2000 images\n",
        "    img_name = file[i]\n",
        "    img_path = original_fold + img_name\n",
        "    img = Image.open(img_path)\n",
        "    img_resized = img.resize((224,224))\n",
        "    img_resized = img_resized.convert('RGB')\n",
        "\n",
        "    new_path = resized_fold + img_name\n",
        "\n",
        "    img_resized.save(new_path)"
      ],
      "metadata": {
        "id": "QPbVucnL4JiK"
      },
      "execution_count": null,
      "outputs": []
    },
    {
      "cell_type": "code",
      "source": [
        "#checking no.of resized images\n",
        "fname = os.listdir('/content/resized')\n",
        "dc = 0\n",
        "cc = 0\n",
        "for i in fname:\n",
        "    if i[0:3] == 'cat':\n",
        "        cc +=1\n",
        "    if i[0:3] == 'dog':\n",
        "        dc +=1\n",
        "print(cc)\n",
        "print(dc)"
      ],
      "metadata": {
        "colab": {
          "base_uri": "https://localhost:8080/"
        },
        "id": "qNL6g43H10eO",
        "outputId": "113a92e5-792a-4072-f4bf-b3fa55ba346d"
      },
      "execution_count": null,
      "outputs": [
        {
          "output_type": "stream",
          "name": "stdout",
          "text": [
            "1036\n",
            "964\n"
          ]
        }
      ]
    },
    {
      "cell_type": "code",
      "source": [
        "dog = mpimg.imread(\"/content/resized/cat.1017.jpg\")\n",
        "plt.figure(figsize = (5,5))\n",
        "plt.imshow(dog)\n",
        "plt.show()"
      ],
      "metadata": {
        "id": "XcnhY8sD3kVB"
      },
      "execution_count": null,
      "outputs": []
    },
    {
      "cell_type": "code",
      "source": [
        "cv2_imshow(dog)"
      ],
      "metadata": {
        "id": "-EyGuQak4G8o"
      },
      "execution_count": null,
      "outputs": []
    },
    {
      "cell_type": "markdown",
      "source": [
        "Creating Labels\n",
        "dog : 1\n",
        "cat : 0"
      ],
      "metadata": {
        "id": "gZZWR4OW6kOZ"
      }
    },
    {
      "cell_type": "code",
      "source": [
        "fil_name = os.listdir('/content/resized')\n",
        "y_train = []\n",
        "for i in fil_name:\n",
        "  if i[0:3] == 'cat':\n",
        "    y_train.append(0)\n",
        "  if i[0:3] == 'dog':\n",
        "    y_train.append(1)\n"
      ],
      "metadata": {
        "id": "YAAo7HqT6olA"
      },
      "execution_count": null,
      "outputs": []
    },
    {
      "cell_type": "code",
      "source": [
        "for i in range(5):\n",
        "  print(y_train[i])\n",
        "  print(fil_name[i])"
      ],
      "metadata": {
        "id": "iGRdpr-67hhC",
        "colab": {
          "base_uri": "https://localhost:8080/"
        },
        "outputId": "754ccd4b-bda3-440f-a3fb-4f0dde2c8973"
      },
      "execution_count": null,
      "outputs": [
        {
          "output_type": "stream",
          "name": "stdout",
          "text": [
            "1\n",
            "dog.12457.jpg\n",
            "0\n",
            "cat.4047.jpg\n",
            "0\n",
            "cat.1596.jpg\n",
            "0\n",
            "cat.6179.jpg\n",
            "1\n",
            "dog.11234.jpg\n"
          ]
        }
      ]
    },
    {
      "cell_type": "code",
      "source": [
        "dc1 = 0 #rechecking\n",
        "for i in y_train:  # counting thwe no. of dog in Y_train as we know there are 981 dog imgs in training set\n",
        "  if i == 1:\n",
        "    dc1 +=1\n",
        "print(dc1)"
      ],
      "metadata": {
        "colab": {
          "base_uri": "https://localhost:8080/"
        },
        "id": "csCcqmZx8Vrm",
        "outputId": "a5d42fa4-2484-4fcf-9716-2afb93889e0c"
      },
      "execution_count": null,
      "outputs": [
        {
          "output_type": "stream",
          "name": "stdout",
          "text": [
            "964\n"
          ]
        }
      ]
    },
    {
      "cell_type": "markdown",
      "source": [
        "creating X_train"
      ],
      "metadata": {
        "id": "llJZCWgX48St"
      }
    },
    {
      "cell_type": "code",
      "source": [
        "fil = os.listdir('/content/resized')  # creating a list of file names"
      ],
      "metadata": {
        "id": "4TwLg5q-6D2i"
      },
      "execution_count": null,
      "outputs": []
    },
    {
      "cell_type": "code",
      "source": [
        "x_train = []\n",
        "for i in fil:\n",
        "  img_path = '/content/resized/' + i\n",
        "  img = mpimg.imread(img_path)\n",
        "  x_train.append(img)\n"
      ],
      "metadata": {
        "id": "fV24pY2Q6aT8"
      },
      "execution_count": null,
      "outputs": []
    },
    {
      "cell_type": "code",
      "source": [
        "X_train = np.array(x_train)\n",
        "X_train.shape"
      ],
      "metadata": {
        "colab": {
          "base_uri": "https://localhost:8080/"
        },
        "id": "bmWxK5Mt70vy",
        "outputId": "adae60cd-9d15-4b47-e6a0-e71878219eee"
      },
      "execution_count": null,
      "outputs": [
        {
          "output_type": "execute_result",
          "data": {
            "text/plain": [
              "(2000, 224, 224, 3)"
            ]
          },
          "metadata": {},
          "execution_count": 16
        }
      ]
    },
    {
      "cell_type": "code",
      "source": [
        "y_train = np.array(y_train)\n",
        "type(y_train)"
      ],
      "metadata": {
        "colab": {
          "base_uri": "https://localhost:8080/"
        },
        "id": "FPA8zW6Y_Ktz",
        "outputId": "e626d162-81ec-4ef3-ecf1-bc9023aae17c"
      },
      "execution_count": null,
      "outputs": [
        {
          "output_type": "execute_result",
          "data": {
            "text/plain": [
              "numpy.ndarray"
            ]
          },
          "metadata": {},
          "execution_count": 17
        }
      ]
    },
    {
      "cell_type": "code",
      "source": [
        "print(X_train[1])"
      ],
      "metadata": {
        "id": "JRO3q-AE_6vC"
      },
      "execution_count": null,
      "outputs": []
    },
    {
      "cell_type": "code",
      "source": [
        "y_train.shape"
      ],
      "metadata": {
        "colab": {
          "base_uri": "https://localhost:8080/"
        },
        "id": "NfpM0ET_FRGW",
        "outputId": "790300d8-24b4-45e7-b229-a02bd28fe4ef"
      },
      "execution_count": null,
      "outputs": [
        {
          "output_type": "execute_result",
          "data": {
            "text/plain": [
              "(2000,)"
            ]
          },
          "metadata": {},
          "execution_count": 19
        }
      ]
    },
    {
      "cell_type": "code",
      "source": [
        "y_train[1]"
      ],
      "metadata": {
        "colab": {
          "base_uri": "https://localhost:8080/"
        },
        "id": "_ur2HmZkFTJG",
        "outputId": "fb16bc9f-0ecc-44a6-98d9-78b24ca664c2"
      },
      "execution_count": null,
      "outputs": [
        {
          "output_type": "execute_result",
          "data": {
            "text/plain": [
              "0"
            ]
          },
          "metadata": {},
          "execution_count": 20
        }
      ]
    },
    {
      "cell_type": "code",
      "source": [
        "y_train = y_train.reshape(2000,1)"
      ],
      "metadata": {
        "id": "KmSz-30NFY8d"
      },
      "execution_count": null,
      "outputs": []
    },
    {
      "cell_type": "markdown",
      "source": [
        "Train _Test _ Split"
      ],
      "metadata": {
        "id": "yC4lvSEXFxxf"
      }
    },
    {
      "cell_type": "markdown",
      "source": [
        "x_t = training\n",
        "y_test = testing data"
      ],
      "metadata": {
        "id": "HRmqxVORIGZO"
      }
    },
    {
      "cell_type": "code",
      "source": [
        "x_t , x_test , y_t , y_test = train_test_split(X_train , y_train , test_size = 0.2 , random_state = 9)"
      ],
      "metadata": {
        "id": "qUUBKjzLFhNU"
      },
      "execution_count": null,
      "outputs": []
    },
    {
      "cell_type": "code",
      "source": [
        "y_t.shape"
      ],
      "metadata": {
        "colab": {
          "base_uri": "https://localhost:8080/"
        },
        "id": "2ZlDHo8gGiob",
        "outputId": "ca88ff28-11ce-436b-a3f5-a1fad0b3dd5c"
      },
      "execution_count": null,
      "outputs": [
        {
          "output_type": "execute_result",
          "data": {
            "text/plain": [
              "(1600, 1)"
            ]
          },
          "metadata": {},
          "execution_count": 23
        }
      ]
    },
    {
      "cell_type": "code",
      "source": [
        "plt.figure(figsize = (10,10))\n",
        "plt.imshow(x_t[5])\n",
        "plt.show()"
      ],
      "metadata": {
        "id": "5oDJ-aUz-2a5"
      },
      "execution_count": null,
      "outputs": []
    },
    {
      "cell_type": "code",
      "source": [
        "y_t[5]"
      ],
      "metadata": {
        "colab": {
          "base_uri": "https://localhost:8080/"
        },
        "id": "z0G_ig4oJffn",
        "outputId": "65669620-a254-4a54-8ac0-7664ed41e341"
      },
      "execution_count": null,
      "outputs": [
        {
          "output_type": "execute_result",
          "data": {
            "text/plain": [
              "array([1])"
            ]
          },
          "metadata": {},
          "execution_count": 25
        }
      ]
    },
    {
      "cell_type": "markdown",
      "source": [
        "Scaling the data"
      ],
      "metadata": {
        "id": "u2S1iXQgH1cq"
      }
    },
    {
      "cell_type": "code",
      "source": [
        "x_t = x_t / 255\n",
        "x_test = x_test / 255"
      ],
      "metadata": {
        "id": "HwPeTyg1H3sF"
      },
      "execution_count": null,
      "outputs": []
    },
    {
      "cell_type": "code",
      "source": [
        "print(x_t[2])\n",
        "print(x_test[2])"
      ],
      "metadata": {
        "id": "s4yCjtpcIQf4"
      },
      "execution_count": null,
      "outputs": []
    },
    {
      "cell_type": "code",
      "source": [
        "print(y_t[1])"
      ],
      "metadata": {
        "colab": {
          "base_uri": "https://localhost:8080/"
        },
        "id": "ZlCqAAV4JSVs",
        "outputId": "a00c20a5-fddc-4252-d6c1-95c2a580c91f"
      },
      "execution_count": null,
      "outputs": [
        {
          "output_type": "stream",
          "name": "stdout",
          "text": [
            "[1]\n"
          ]
        }
      ]
    },
    {
      "cell_type": "markdown",
      "source": [
        "Building Model"
      ],
      "metadata": {
        "id": "CmUGIAPNKMaK"
      }
    },
    {
      "cell_type": "code",
      "source": [
        "import tensorflow as tf\n",
        "import tensorflow_hub as hub  # for importing mobile net model\n",
        "import keras"
      ],
      "metadata": {
        "id": "TXJl7545KOR8"
      },
      "execution_count": null,
      "outputs": []
    },
    {
      "cell_type": "markdown",
      "source": [
        "Loading the model"
      ],
      "metadata": {
        "id": "CciH6fKaMQEK"
      }
    },
    {
      "cell_type": "markdown",
      "source": [
        "case 1 : using model with trainable parameters = False;;;\n",
        "Only training outermost layer"
      ],
      "metadata": {
        "id": "IMZSrX3NMdUo"
      }
    },
    {
      "cell_type": "markdown",
      "source": [
        "Using sequential API"
      ],
      "metadata": {
        "id": "sQDdWbLeP1Ll"
      }
    },
    {
      "cell_type": "code",
      "source": [
        "mobnet_path = \"https://tfhub.dev/google/tf2-preview/mobilenet_v2/feature_vector/4\""
      ],
      "metadata": {
        "id": "8WYQxerANVwe"
      },
      "execution_count": null,
      "outputs": []
    },
    {
      "cell_type": "code",
      "source": [
        "mode2 = hub.KerasLayer(mobnet_path , input_shape = (224,224,3), trainable = False)"
      ],
      "metadata": {
        "id": "IIGW1GH9OY-F"
      },
      "execution_count": null,
      "outputs": []
    },
    {
      "cell_type": "code",
      "source": [
        "model2_unmodified = tf.keras.Sequential([           \n",
        "            mode2,\n",
        "            tf.keras.layers.Dense(units = 2),        # two classes. It can be trained using one class also as it is a binary classification model. The only difference is that the loss function will be different for both types of models     \n",
        "\n",
        "])"
      ],
      "metadata": {
        "id": "EetAr6YJOq1k"
      },
      "execution_count": null,
      "outputs": []
    },
    {
      "cell_type": "code",
      "source": [
        "model2_unmodified.summary()"
      ],
      "metadata": {
        "id": "zuaLYch7Q8_f"
      },
      "execution_count": null,
      "outputs": []
    },
    {
      "cell_type": "code",
      "source": [
        "model2_unmodified.compile(\n",
        "    optimizer = 'adam',\n",
        "    loss = tf.keras.losses.SparseCategoricalCrossentropy(from_logits=True), # if no. of classes = 1, then we have used binarycrossentropyloss\n",
        "    metrics = ['acc']\n",
        ")"
      ],
      "metadata": {
        "id": "WXOCATXXQ_MZ"
      },
      "execution_count": null,
      "outputs": []
    },
    {
      "cell_type": "code",
      "source": [
        "model2_unmodified.fit(x_t,y_t, epochs = 5)"
      ],
      "metadata": {
        "colab": {
          "base_uri": "https://localhost:8080/"
        },
        "id": "l7ugiuguV7GK",
        "outputId": "4560a304-d5b5-46d4-dcf4-cdb8a7ce8b08"
      },
      "execution_count": null,
      "outputs": [
        {
          "output_type": "stream",
          "name": "stdout",
          "text": [
            "Epoch 1/5\n",
            "50/50 [==============================] - 43s 761ms/step - loss: 0.2622 - acc: 0.8725\n",
            "Epoch 2/5\n",
            "50/50 [==============================] - 45s 894ms/step - loss: 0.0632 - acc: 0.9762\n",
            "Epoch 3/5\n",
            "50/50 [==============================] - 43s 852ms/step - loss: 0.0437 - acc: 0.9831\n",
            "Epoch 4/5\n",
            "50/50 [==============================] - 44s 877ms/step - loss: 0.0327 - acc: 0.9894\n",
            "Epoch 5/5\n",
            "50/50 [==============================] - 42s 849ms/step - loss: 0.0263 - acc: 0.9937\n"
          ]
        },
        {
          "output_type": "execute_result",
          "data": {
            "text/plain": [
              "<keras.callbacks.History at 0x7f9336af1a60>"
            ]
          },
          "metadata": {},
          "execution_count": 45
        }
      ]
    },
    {
      "cell_type": "code",
      "source": [
        "score , accuracy = model2_unmodified.evaluate(x_test,y_test)"
      ],
      "metadata": {
        "colab": {
          "base_uri": "https://localhost:8080/"
        },
        "id": "QVpq3OB1WdFH",
        "outputId": "8c0f2ac0-0507-4481-b83c-df0efd91521b"
      },
      "execution_count": null,
      "outputs": [
        {
          "output_type": "stream",
          "name": "stdout",
          "text": [
            "13/13 [==============================] - 18s 1s/step - loss: 0.0673 - acc: 0.9825\n"
          ]
        }
      ]
    },
    {
      "cell_type": "code",
      "source": [
        "print(\"Test loss\",score)\n",
        "print(\"Test accuracy\", accuracy)"
      ],
      "metadata": {
        "colab": {
          "base_uri": "https://localhost:8080/"
        },
        "id": "v3QgU8mGXrHx",
        "outputId": "be526a37-9130-401b-d125-a9cdab2d776e"
      },
      "execution_count": null,
      "outputs": [
        {
          "output_type": "stream",
          "name": "stdout",
          "text": [
            "Test loss 0.06734900921583176\n",
            "Test accuracy 0.9825000166893005\n"
          ]
        }
      ]
    },
    {
      "cell_type": "markdown",
      "source": [
        "Now Using Functional API and training several outer layers for increasing accuracy"
      ],
      "metadata": {
        "id": "HCoDGTVeYEON"
      }
    }
  ]
}